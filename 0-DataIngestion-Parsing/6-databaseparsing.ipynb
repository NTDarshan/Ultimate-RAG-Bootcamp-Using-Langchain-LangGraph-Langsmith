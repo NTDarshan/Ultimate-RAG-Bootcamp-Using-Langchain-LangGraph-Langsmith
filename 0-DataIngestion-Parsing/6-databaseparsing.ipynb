{
 "cells": [
  {
   "cell_type": "markdown",
   "id": "7f98d902",
   "metadata": {},
   "source": [
    "# Database parsing\n"
   ]
  },
  {
   "cell_type": "code",
   "execution_count": 2,
   "id": "7cf78410",
   "metadata": {},
   "outputs": [],
   "source": [
    "import sqlite3\n",
    "import os \n",
    "\n",
    "os.makedirs(\"data/databases\", exist_ok=True)\n"
   ]
  },
  {
   "cell_type": "code",
   "execution_count": 3,
   "id": "042e75d5",
   "metadata": {},
   "outputs": [],
   "source": [
    "conn = sqlite3.connect(\"data/databases/company.db\")\n",
    "cursor = conn.cursor()\n"
   ]
  },
  {
   "cell_type": "code",
   "execution_count": 5,
   "id": "529eb77c",
   "metadata": {},
   "outputs": [],
   "source": [
    "\n",
    "cursor.execute('''\n",
    "    CREATE TABLE IF NOT EXISTS Employees (\n",
    "        id INTEGER PRIMARY KEY AUTOINCREMENT,\n",
    "        name TEXT NOT NULL,\n",
    "        role TEXT NOT NULL,\n",
    "        department TEXT NOT NULL,\n",
    "        salary REAL NOT NULL\n",
    "    )\n",
    "''')\n",
    "\n",
    "cursor.execute('''\n",
    "    CREATE TABLE IF NOT EXISTS Projects (\n",
    "        id INTEGER PRIMARY KEY AUTOINCREMENT,\n",
    "        name TEXT NOT NULL,\n",
    "        budget REAL NOT NULL,\n",
    "        status TEXT NOT NULL,\n",
    "        lead_id INTEGER,\n",
    "        FOREIGN KEY (lead_id) REFERENCES Employees(id)\n",
    "    )\n",
    "''')\n",
    "\n",
    "conn.commit()"
   ]
  },
  {
   "cell_type": "code",
   "execution_count": 6,
   "id": "9f802afe",
   "metadata": {},
   "outputs": [
    {
     "name": "stdout",
     "output_type": "stream",
     "text": [
      "\n",
      "Employees:\n",
      "(1, 'John Smith', 'Software Engineer', 'Engineering', 75000.0)\n",
      "(2, 'Sarah Johnson', 'Product Manager', 'Product', 85000.0)\n",
      "(3, 'Mike Davis', 'Data Scientist', 'Analytics', 80000.0)\n",
      "(4, 'Emily Brown', 'UX Designer', 'Design', 70000.0)\n",
      "(5, 'David Wilson', 'DevOps Engineer', 'Engineering', 78000.0)\n",
      "(6, 'Lisa Garcia', 'Marketing Manager', 'Marketing', 72000.0)\n",
      "(7, 'Tom Anderson', 'Senior Developer', 'Engineering', 82000.0)\n",
      "(8, 'Anna Martinez', 'HR Manager', 'Human Resources', 68000.0)\n",
      "(9, 'Chris Taylor', 'Sales Manager', 'Sales', 76000.0)\n",
      "(10, 'Jessica Lee', 'Quality Assurance', 'Engineering', 65000.0)\n",
      "\n",
      "Projects:\n",
      "(1, 'E-commerce Platform', 250000.0, 'In Progress', 1)\n",
      "(2, 'Mobile App Development', 180000.0, 'Planning', 2)\n",
      "(3, 'Data Analytics Dashboard', 120000.0, 'Completed', 3)\n",
      "(4, 'User Experience Redesign', 95000.0, 'In Progress', 4)\n",
      "(5, 'Cloud Migration', 300000.0, 'Planning', 5)\n",
      "(6, 'Marketing Campaign Tool', 85000.0, 'In Progress', 6)\n",
      "(7, 'API Integration', 150000.0, 'Completed', 7)\n",
      "(8, 'Employee Portal', 110000.0, 'Testing', 8)\n",
      "(9, 'CRM System', 200000.0, 'In Progress', 9)\n",
      "(10, 'Quality Automation', 75000.0, 'Planning', 10)\n"
     ]
    }
   ],
   "source": [
    "employees_data = [\n",
    "    ('John Smith', 'Software Engineer', 'Engineering', 75000),\n",
    "    ('Sarah Johnson', 'Product Manager', 'Product', 85000),\n",
    "    ('Mike Davis', 'Data Scientist', 'Analytics', 80000),\n",
    "    ('Emily Brown', 'UX Designer', 'Design', 70000),\n",
    "    ('David Wilson', 'DevOps Engineer', 'Engineering', 78000),\n",
    "    ('Lisa Garcia', 'Marketing Manager', 'Marketing', 72000),\n",
    "    ('Tom Anderson', 'Senior Developer', 'Engineering', 82000),\n",
    "    ('Anna Martinez', 'HR Manager', 'Human Resources', 68000),\n",
    "    ('Chris Taylor', 'Sales Manager', 'Sales', 76000),\n",
    "    ('Jessica Lee', 'Quality Assurance', 'Engineering', 65000)\n",
    "]\n",
    "\n",
    "cursor.executemany('''\n",
    "    INSERT INTO Employees (name, role, department, salary)\n",
    "    VALUES (?, ?, ?, ?)\n",
    "''', employees_data)\n",
    "\n",
    "projects_data = [\n",
    "    ('E-commerce Platform', 250000, 'In Progress', 1),\n",
    "    ('Mobile App Development', 180000, 'Planning', 2),\n",
    "    ('Data Analytics Dashboard', 120000, 'Completed', 3),\n",
    "    ('User Experience Redesign', 95000, 'In Progress', 4),\n",
    "    ('Cloud Migration', 300000, 'Planning', 5),\n",
    "    ('Marketing Campaign Tool', 85000, 'In Progress', 6),\n",
    "    ('API Integration', 150000, 'Completed', 7),\n",
    "    ('Employee Portal', 110000, 'Testing', 8),\n",
    "    ('CRM System', 200000, 'In Progress', 9),\n",
    "    ('Quality Automation', 75000, 'Planning', 10)\n",
    "]\n",
    "\n",
    "cursor.executemany('''\n",
    "    INSERT INTO Projects (name, budget, status, lead_id)\n",
    "    VALUES (?, ?, ?, ?)\n",
    "''', projects_data)\n",
    "\n",
    "conn.commit()\n",
    "\n",
    "\n",
    "print(\"\\nEmployees:\")\n",
    "cursor.execute(\"SELECT * FROM Employees\")\n",
    "for row in cursor.fetchall():\n",
    "    print(row)\n",
    "\n",
    "print(\"\\nProjects:\")\n",
    "cursor.execute(\"SELECT * FROM Projects\")\n",
    "for row in cursor.fetchall():\n",
    "    print(row)"
   ]
  },
  {
   "cell_type": "markdown",
   "id": "fdc8a1f9",
   "metadata": {},
   "source": [
    "#Database Content extraction\n"
   ]
  },
  {
   "cell_type": "code",
   "execution_count": 7,
   "id": "05e55de7",
   "metadata": {},
   "outputs": [],
   "source": [
    "from langchain_community.utilities import SQLDatabase\n",
    "from langchain_community.document_loaders import SQLDatabaseLoader"
   ]
  },
  {
   "cell_type": "code",
   "execution_count": 9,
   "id": "a49b10a9",
   "metadata": {},
   "outputs": [
    {
     "name": "stdout",
     "output_type": "stream",
     "text": [
      "table names ['Employees', 'Projects']\n",
      "Table info \n",
      "CREATE TABLE \"Employees\" (\n",
      "\tid INTEGER, \n",
      "\tname TEXT NOT NULL, \n",
      "\trole TEXT NOT NULL, \n",
      "\tdepartment TEXT NOT NULL, \n",
      "\tsalary REAL NOT NULL, \n",
      "\tPRIMARY KEY (id)\n",
      ")\n",
      "\n",
      "/*\n",
      "3 rows from Employees table:\n",
      "id\tname\trole\tdepartment\tsalary\n",
      "1\tJohn Smith\tSoftware Engineer\tEngineering\t75000.0\n",
      "2\tSarah Johnson\tProduct Manager\tProduct\t85000.0\n",
      "3\tMike Davis\tData Scientist\tAnalytics\t80000.0\n",
      "*/\n",
      "\n",
      "\n",
      "CREATE TABLE \"Projects\" (\n",
      "\tid INTEGER, \n",
      "\tname TEXT NOT NULL, \n",
      "\tbudget REAL NOT NULL, \n",
      "\tstatus TEXT NOT NULL, \n",
      "\tlead_id INTEGER, \n",
      "\tPRIMARY KEY (id), \n",
      "\tFOREIGN KEY(lead_id) REFERENCES \"Employees\" (id)\n",
      ")\n",
      "\n",
      "/*\n",
      "3 rows from Projects table:\n",
      "id\tname\tbudget\tstatus\tlead_id\n",
      "1\tE-commerce Platform\t250000.0\tIn Progress\t1\n",
      "2\tMobile App Development\t180000.0\tPlanning\t2\n",
      "3\tData Analytics Dashboard\t120000.0\tCompleted\t3\n",
      "*/\n"
     ]
    }
   ],
   "source": [
    "#METHOD ONE : SQLDatabaseLoader\n",
    "db = SQLDatabase.from_uri(\"sqlite:///data/databases/company.db\")\n",
    "\n",
    "print(f\"table names {db.get_usable_table_names()}\")\n",
    "print(f\"Table info {db.get_table_info()}\")"
   ]
  },
  {
   "cell_type": "markdown",
   "id": "be7f43e2",
   "metadata": {},
   "source": [
    "#Custom sql database content process\n"
   ]
  },
  {
   "cell_type": "code",
   "execution_count": 10,
   "id": "de434034",
   "metadata": {},
   "outputs": [],
   "source": [
    "from typing import List\n",
    "from langchain_core.documents import Document\n"
   ]
  },
  {
   "cell_type": "code",
   "execution_count": 14,
   "id": "89a83618",
   "metadata": {},
   "outputs": [],
   "source": [
    "def sql_to_document(db_path: str) -> List[Document]:\n",
    "    db = sqlite3.connect(db_path)\n",
    "    cursor = db.cursor()\n",
    "    documents = []\n",
    "    #step 1 : create a document for each table\n",
    "    cursor.execute(\"SELECT name from sqlite_master WHERE type='table'\")\n",
    "    tables = cursor.fetchall()\n",
    "    \n",
    "    for table in tables:\n",
    "        table_name = table[0]\n",
    "\n",
    "        # Get table schema (column info)\n",
    "        cursor.execute(f\"PRAGMA table_info({table_name});\")\n",
    "        columns = cursor.fetchall()\n",
    "        column_names = [col[1] for col in columns]\n",
    "\n",
    "        # Get table data\n",
    "        cursor.execute(f\"SELECT * FROM {table_name}\")\n",
    "        rows = cursor.fetchall()\n",
    "\n",
    "        # Create table overview document\n",
    "        table_content = f\"Table: {table_name}\\n\"\n",
    "        table_content += f\"Columns: {', '.join(column_names)}\\n\"\n",
    "        table_content += f\"Total Records: {len(rows)}\\n\\n\"\n",
    "        \n",
    "         # Add sample records (first 5 rows)\n",
    "        table_content += \"Sample Records:\\n\"\n",
    "        for row in rows[:5]:\n",
    "            record = dict(zip(column_names, row))\n",
    "            table_content += f\"{record}\\n\"\n",
    "\n",
    "        # Create LangChain Document\n",
    "        doc = Document(\n",
    "            page_content=table_content,\n",
    "            metadata={\n",
    "                'source': db_path,\n",
    "                'table_name': table_name,\n",
    "                'num_records': len(rows),\n",
    "                'data_type': 'sql_table'\n",
    "            }\n",
    "        )\n",
    "\n",
    "        documents.append(doc)\n",
    "        \n",
    "        return documents"
   ]
  },
  {
   "cell_type": "code",
   "execution_count": 19,
   "id": "a10e8a98",
   "metadata": {},
   "outputs": [
    {
     "data": {
      "text/plain": [
       "\"Table: Employees\\nColumns: id, name, role, department, salary\\nTotal Records: 10\\n\\nSample Records:\\n{'id': 1, 'name': 'John Smith', 'role': 'Software Engineer', 'department': 'Engineering', 'salary': 75000.0}\\n{'id': 2, 'name': 'Sarah Johnson', 'role': 'Product Manager', 'department': 'Product', 'salary': 85000.0}\\n{'id': 3, 'name': 'Mike Davis', 'role': 'Data Scientist', 'department': 'Analytics', 'salary': 80000.0}\\n{'id': 4, 'name': 'Emily Brown', 'role': 'UX Designer', 'department': 'Design', 'salary': 70000.0}\\n{'id': 5, 'name': 'David Wilson', 'role': 'DevOps Engineer', 'department': 'Engineering', 'salary': 78000.0}\\n\""
      ]
     },
     "execution_count": 19,
     "metadata": {},
     "output_type": "execute_result"
    }
   ],
   "source": [
    "docs = sql_to_document(\"data/databases/company.db\")\n",
    "docs[0].page_content\n"
   ]
  },
  {
   "cell_type": "code",
   "execution_count": null,
   "id": "51b1c8d4",
   "metadata": {},
   "outputs": [],
   "source": []
  }
 ],
 "metadata": {
  "kernelspec": {
   "display_name": "RAGUdemy (3.13.2)",
   "language": "python",
   "name": "python3"
  },
  "language_info": {
   "codemirror_mode": {
    "name": "ipython",
    "version": 3
   },
   "file_extension": ".py",
   "mimetype": "text/x-python",
   "name": "python",
   "nbconvert_exporter": "python",
   "pygments_lexer": "ipython3",
   "version": "3.13.2"
  }
 },
 "nbformat": 4,
 "nbformat_minor": 5
}
