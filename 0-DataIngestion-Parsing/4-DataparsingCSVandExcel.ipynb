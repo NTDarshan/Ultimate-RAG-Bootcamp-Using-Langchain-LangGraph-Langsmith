{
 "cells": [
  {
   "cell_type": "markdown",
   "id": "f6391e05",
   "metadata": {},
   "source": [
    "#CSV and Excel file processing\n"
   ]
  },
  {
   "cell_type": "code",
   "execution_count": 10,
   "id": "64f7fcfe",
   "metadata": {},
   "outputs": [],
   "source": [
    "import pandas as pd\n",
    "import os"
   ]
  },
  {
   "cell_type": "code",
   "execution_count": 11,
   "id": "461cbdb6",
   "metadata": {},
   "outputs": [],
   "source": [
    "os.makedirs(\"data/Structured_files\", exist_ok=True)"
   ]
  },
  {
   "cell_type": "code",
   "execution_count": 12,
   "id": "cb6fa40c",
   "metadata": {},
   "outputs": [],
   "source": [
    "data = {\n",
    "    'Products': ['Laptop', 'Smartphone', 'Headphones', 'Chair', 'Table'],\n",
    "    'Category': ['Electronics', 'Electronics', 'Accessories', 'Furniture', 'Furniture'],\n",
    "    'Price': [60000, 25000, 2000, 3500, 7000],\n",
    "    'Stock': [10, 25, 50, 15, 20],\n",
    "    'Description': [\n",
    "        'High performance laptop with 16GB RAM',\n",
    "        'Latest smartphone with AMOLED display',\n",
    "        'Noise-cancelling wireless headphones',\n",
    "        'Ergonomic office chair',\n",
    "        'Wooden dining table with 4 seats'\n",
    "    ]\n",
    "}\n",
    "\n",
    "df = pd.DataFrame(data)\n",
    "df.to_csv(r\"data\\Structured_files\\products.csv\", index=False)\n",
    "\n"
   ]
  },
  {
   "cell_type": "code",
   "execution_count": 14,
   "id": "3446fb6f",
   "metadata": {},
   "outputs": [],
   "source": [
    "with pd.ExcelWriter(r\"data\\Structured_files\\inventory.xlsx\") as writer:\n",
    "    df.to_excel(writer, sheet_name=\"Products\", index=False)\n",
    "    \n",
    "    summary_data = {\n",
    "        'Category':['Electronics','Accessories'],\n",
    "        'Total_Items' :[3,2],\n",
    "        'Total_Value':[85000,22000]\n",
    "    }\n",
    "    \n",
    "    pd.DataFrame(summary_data).to_excel(writer,sheet_name=\"Summary\", index=False)"
   ]
  },
  {
   "cell_type": "markdown",
   "id": "69c492df",
   "metadata": {},
   "source": [
    "####CSV Processing\n"
   ]
  },
  {
   "cell_type": "code",
   "execution_count": 15,
   "id": "af55522c",
   "metadata": {},
   "outputs": [],
   "source": [
    "from langchain_community.document_loaders import CSVLoader\n",
    "from langchain_community.document_loaders import  UnstructuredCSVLoader\n"
   ]
  },
  {
   "cell_type": "code",
   "execution_count": 18,
   "id": "82e10b24",
   "metadata": {},
   "outputs": [
    {
     "name": "stdout",
     "output_type": "stream",
     "text": [
      "document 0 content:Products: Laptop\n",
      "Category: Electronics\n",
      "Price: 60000\n",
      "Stock: 10\n",
      "Description: High performance laptop with 16GB RAM\n",
      "document 0 metadata:{'source': 'data\\\\Structured_files\\\\Products.csv', 'row': 0}\n",
      "document 1 content:Products: Smartphone\n",
      "Category: Electronics\n",
      "Price: 25000\n",
      "Stock: 25\n",
      "Description: Latest smartphone with AMOLED display\n",
      "document 1 metadata:{'source': 'data\\\\Structured_files\\\\Products.csv', 'row': 1}\n",
      "document 2 content:Products: Headphones\n",
      "Category: Accessories\n",
      "Price: 2000\n",
      "Stock: 50\n",
      "Description: Noise-cancelling wireless headphones\n",
      "document 2 metadata:{'source': 'data\\\\Structured_files\\\\Products.csv', 'row': 2}\n",
      "document 3 content:Products: Chair\n",
      "Category: Furniture\n",
      "Price: 3500\n",
      "Stock: 15\n",
      "Description: Ergonomic office chair\n",
      "document 3 metadata:{'source': 'data\\\\Structured_files\\\\Products.csv', 'row': 3}\n",
      "document 4 content:Products: Table\n",
      "Category: Furniture\n",
      "Price: 7000\n",
      "Stock: 20\n",
      "Description: Wooden dining table with 4 seats\n",
      "document 4 metadata:{'source': 'data\\\\Structured_files\\\\Products.csv', 'row': 4}\n"
     ]
    }
   ],
   "source": [
    "csv_loader = CSVLoader(\n",
    "    file_path=r\"data\\Structured_files\\Products.csv\",\n",
    "    encoding=\"utf-8\",\n",
    "    csv_args={\n",
    "        \"delimiter\":\",\",\n",
    "        \"quotechar\":\"\\\"\",\n",
    "    }\n",
    ")\n",
    "\n",
    "csv_docs = csv_loader.load()\n",
    "\n",
    "for i, doc in enumerate(csv_docs):\n",
    "    print(f\"document {i} content:{doc.page_content}\")\n",
    "    print(f\"document {i} metadata:{doc.metadata}\")\n",
    "\n",
    "\n",
    "\n",
    "\n"
   ]
  },
  {
   "cell_type": "code",
   "execution_count": 27,
   "id": "7f4a332c",
   "metadata": {},
   "outputs": [],
   "source": [
    "##processing the pdf file intelligently\n",
    "\n",
    "from typing import List\n",
    "from langchain_core.documents import Document\n",
    "\n",
    "\n",
    "def process_pdf_file(file_path: str) -> List[Document]:\n",
    "    \n",
    "    df = pd.read_csv(file_path)\n",
    "    \n",
    "    documents = []\n",
    "    for idx, row in df.iterrows():\n",
    "        \n",
    "        content = f\"\"\"\n",
    "        Product Information:\n",
    "        name: {row[\"Products\"]}\n",
    "        description: {row[\"Description\"]}\n",
    "        price: {row[\"Price\"]}\n",
    "        category: {row[\"Category\"]}\n",
    "        stock_quantity: {row[\"Stock\"]}\n",
    "        \"\"\"\n",
    "        \n",
    "        doc = Document (\n",
    "            \n",
    "            page_content=content,\n",
    "            metadata={\n",
    "                \"source\": file_path,\n",
    "                \"name\": row[\"Products\"],\n",
    "                \"description\": row[\"Description\"],\n",
    "                \"price\": row[\"Price\"],\n",
    "                \"category\": row[\"Category\"],\n",
    "                \"stock_quantity\": row[\"Stock\"],\n",
    "                \"row_index\": idx,\n",
    "            }\n",
    "\n",
    "        )\n",
    "        \n",
    "        documents.append(doc)\n",
    "        return documents\n"
   ]
  },
  {
   "cell_type": "code",
   "execution_count": 28,
   "id": "56430466",
   "metadata": {},
   "outputs": [
    {
     "name": "stdout",
     "output_type": "stream",
     "text": [
      "page_content='\n",
      "        Product Information:\n",
      "        name: Laptop\n",
      "        description: High performance laptop with 16GB RAM\n",
      "        price: 60000\n",
      "        category: Electronics\n",
      "        stock_quantity: 10\n",
      "        ' metadata={'source': 'data/Structured_files/products.csv', 'name': 'Laptop', 'description': 'High performance laptop with 16GB RAM', 'price': 60000, 'category': 'Electronics', 'stock_quantity': 10, 'row_index': 0}\n"
     ]
    }
   ],
   "source": [
    "procced_docs = process_pdf_file(\"data/Structured_files/products.csv\")\n",
    "print(procced_docs[0])"
   ]
  },
  {
   "cell_type": "code",
   "execution_count": null,
   "id": "1c145266",
   "metadata": {},
   "outputs": [],
   "source": [
    "##processing the Excel file\n",
    "\n",
    "def process_excel_file(file_path: str) -> List[Document]:\n",
    "    excel_file = pd.ExcelFile(file_path)\n",
    "    documents = []\n",
    "    for sheet_name in excel_file.sheet_names:\n",
    "        df = pd.read_excel(file_path, sheet_name=sheet_name)\n",
    "        \n",
    "        sheet_content = f\"sheet name : {sheet_name}\\n\"\n",
    "        sheet_content += f\"Columns : {', '.join(df.columns)}\\n\"\n",
    "        sheet_content += f\"Rows : {len(df)}\\n\\n\"\n",
    "        sheet_content += df.to_string(index=False)\n",
    "        \n",
    "        \n",
    "        doc = Document(\n",
    "            page_content=sheet_content,\n",
    "            metadata={\n",
    "                \"source\": file_path,\n",
    "                \"sheet_name\": sheet_name,\n",
    "                \"num_rows\": len(df),\n",
    "                \"num_columns\": len(df.columns)\n",
    "            }\n",
    "        )\n",
    "        \n",
    "        documents.append(doc)\n",
    "        return documents"
   ]
  },
  {
   "cell_type": "code",
   "execution_count": 34,
   "id": "f0225932",
   "metadata": {},
   "outputs": [
    {
     "name": "stdout",
     "output_type": "stream",
     "text": [
      "sheet name : Products\n",
      "Columns : Products, Category, Price, Stock, Description\n",
      "Rows : 5\n",
      "\n",
      "  Products    Category  Price  Stock                           Description\n",
      "    Laptop Electronics  60000     10 High performance laptop with 16GB RAM\n",
      "Smartphone Electronics  25000     25 Latest smartphone with AMOLED display\n",
      "Headphones Accessories   2000     50  Noise-cancelling wireless headphones\n",
      "     Chair   Furniture   3500     15                Ergonomic office chair\n",
      "     Table   Furniture   7000     20      Wooden dining table with 4 seats\n"
     ]
    }
   ],
   "source": [
    "print(process_excel_file(r\"data\\Structured_files\\inventory.xlsx\")[0].page_content)\n"
   ]
  },
  {
   "cell_type": "code",
   "execution_count": 40,
   "id": "f4043447",
   "metadata": {},
   "outputs": [
    {
     "name": "stdout",
     "output_type": "stream",
     "text": [
      "Products Category Price Stock Description Laptop Electronics 60000 10 High performance laptop with 16GB RAM Smartphone Electronics 25000 25 Latest smartphone with AMOLED display Headphones Accessories 2000 50 Noise-cancelling wireless headphones Chair Furniture 3500 15 Ergonomic office chair Table Furniture 7000 20 Wooden dining table with 4 seats\n"
     ]
    }
   ],
   "source": [
    "    #processing the Excel file using unstructuredExcelLoader\n",
    "from langchain.document_loaders import UnstructuredExcelLoader\n",
    "\n",
    "loader = UnstructuredExcelLoader('data/Structured_files/inventory.xlsx' , mode='elements')\n",
    "\n",
    "docs = loader.load()\n",
    "print(docs[0].page_content)\n",
    "\n",
    "\n"
   ]
  },
  {
   "cell_type": "code",
   "execution_count": null,
   "id": "a4fe4d15",
   "metadata": {},
   "outputs": [],
   "source": []
  }
 ],
 "metadata": {
  "kernelspec": {
   "display_name": "RAGUdemy (3.13.2)",
   "language": "python",
   "name": "python3"
  },
  "language_info": {
   "codemirror_mode": {
    "name": "ipython",
    "version": 3
   },
   "file_extension": ".py",
   "mimetype": "text/x-python",
   "name": "python",
   "nbconvert_exporter": "python",
   "pygments_lexer": "ipython3",
   "version": "3.13.2"
  }
 },
 "nbformat": 4,
 "nbformat_minor": 5
}
