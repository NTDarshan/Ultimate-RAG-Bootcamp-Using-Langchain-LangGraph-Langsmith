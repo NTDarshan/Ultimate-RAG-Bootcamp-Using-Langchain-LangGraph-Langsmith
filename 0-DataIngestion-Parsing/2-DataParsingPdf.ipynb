{
 "cells": [
  {
   "cell_type": "markdown",
   "id": "cc2d1906",
   "metadata": {},
   "source": [
    "#pdf loader\n"
   ]
  },
  {
   "cell_type": "code",
   "execution_count": 3,
   "id": "83317fb5",
   "metadata": {},
   "outputs": [],
   "source": [
    "from langchain_community.document_loaders import(\n",
    "    PyPDFLoader,\n",
    "    UnstructuredPDFLoader,\n",
    "    PyMuPDFLoader\n",
    ")\n",
    "from typing import List, Dict, Any\n",
    "from langchain_core.documents import Document"
   ]
  },
  {
   "cell_type": "code",
   "execution_count": 4,
   "id": "12de677c",
   "metadata": {},
   "outputs": [
    {
     "name": "stdout",
     "output_type": "stream",
     "text": [
      "[Document(metadata={'producer': 'TradeDesign PDF 2.0', 'creator': 'PyPDF', 'creationdate': '', 'source': 'data\\\\pdf_file\\\\KBC_2_Invoice_1.pdf', 'total_pages': 2, 'page': 0, 'page_label': '1'}, page_content=\"ARCELORMITTAL INTERN. LUXEMBOURG SA\\nBOULEVARD D'AVRANCHES 24-26\\nL-1160 LUXEMBOURG\\nLuxembourg\\nAntwerpen, 30 June 2025\\nAdvice of Financing\\nYour Reference: B073384001\\nOur Reference: ANTWLE0040018 & ANTWBE0040018/01\\nCounterparty: FIERCTC SIBEL SRL\\nReceivable amount: USD 2.918.936,80\\nFinanced amount: USD 2.918.936,80\\nStart Date: 30 June 2025\\nDue Date: 24 September 2025\\nDear Sir/Madam,\\nWe have checked above documentary remittance. The documents are taken up and forfaited without \\nrecourse as follows:\\nFinanced amount USD 2.918.936,80 value date 30 June 2025 as per details below\\nTo the credit of your account with us, no.  IBAN BE68733012009034\\nDetails of settlement:\\nAmount Financed 2.918.936,80 USD\\nInterest USD 30.860,92 value date 30 June 2025 as per details below\\nTo the debit of your account with us, no. IBAN BE68733012009034\\nDetails of settlement:\\nInterest on 87 days at 4,374893 % 30.860,92 USD\\nCharges USD 3.880,70 value date 30 June 2025 as per details below\\nTo the debit of your account with us, no. IBAN BE68733012009034\\nKBC Bank\\nHead Office\\nTrade & Commercial Finance\\nDocumentary Credits Export - DKE\\nSender: DKE - Delacenseriestraat 1, B-2018 Antwerpen\\nYour File Manager\\nJIM CORTENS\\nTelephone +32 3 202 98 37\\nExportLC.Antwerp@kbc.be\\nhttp://www.kbc.be\\nKREDBEBB022\\nKBC Bank NV (member of the KBC group) - Havenlaan 2 - B-1080 Brussel - Belgium - BIC KREDBEBB\\nIBAN BE45 7308 7201 0289 - RLP Brussels - VAT BE 0462.920.226 - CBFA 026256 A\\n1/2\"), Document(metadata={'producer': 'TradeDesign PDF 2.0', 'creator': 'PyPDF', 'creationdate': '', 'source': 'data\\\\pdf_file\\\\KBC_2_Invoice_1.pdf', 'total_pages': 2, 'page': 1, 'page_label': '2'}, page_content='Details of settlement:\\nForeign Commission 200,00 USD\\nFlat fee + 148,63 USD\\nCommitment fee + 2.440,56 USD\\nHandling Fee + 142,68 USD\\nAmendment charge + 35,67 USD\\nConfirmation Commission + 913,16 USD\\nTotal 3.880,70 USD\\nThis message is sent for your information. All rights and obligations in the context of the \\nabovementioned transaction and/or financing are governed by the applicable contractual \\narrangements. \\nYours sincerely,\\nJIM CORTENS\\nController Documentary Credits\\nKARLA BACIC\\nController Documentary Credits\\nEnclosure(s)\\nKBC Bank NV (member of the KBC group) - Havenlaan 2 - B-1080 Brussel - Belgium - BIC KREDBEBB\\nIBAN BE45 7308 7201 0289 - RLP Brussels - VAT BE 0462.920.226 - CBFA 026256 A\\n2/2')]\n"
     ]
    }
   ],
   "source": [
    "#py pdf loader\n",
    "\n",
    "try:\n",
    "    pypdf_loader = PyPDFLoader(r\"data\\pdf_file\\KBC_2_Invoice_1.pdf\")\n",
    "    pypdf_docs = pypdf_loader.load()\n",
    "    print(pypdf_docs)\n",
    "except Exception as e:\n",
    "    print(f\"Exception {e}\")\n",
    "\n",
    "\n",
    "\n"
   ]
  },
  {
   "cell_type": "code",
   "execution_count": 5,
   "id": "c7bab1ef",
   "metadata": {},
   "outputs": [
    {
     "name": "stdout",
     "output_type": "stream",
     "text": [
      "ARCELORMITTAL INTERN. LUXEMBOURG SA\n",
      "BOULEVARD D'AVRANCHES 24-26\n",
      "L-1160 LUXEMBOURG\n",
      "Luxembourg\n",
      "Antwerpen, 30 June 2025\n",
      "Advice of Financing\n",
      "Your Reference:\n",
      "B073384001\n",
      "Our Reference:\n",
      "ANTWLE0040018 & ANTWBE0040018/01\n",
      "Counterparty:\n",
      "FIERCTC SIBEL SRL\n",
      "Receivable amount:\n",
      "USD 2.918.936,80\n",
      "Financed amount:\n",
      "USD 2.918.936,80\n",
      "Start Date:\n",
      "30 June 2025\n",
      "Due Date:\n",
      "24 September 2025\n",
      "Dear Sir/Madam,\n",
      "We have checked above documentary remittance. The documents are taken up and forfaited without \n",
      "recourse as follows:\n",
      "Financed amount USD 2.918.936,80 value date 30 June 2025 as per details below\n",
      "To the credit of your account with us, no.  IBAN BE68733012009034\n",
      "Details of settlement:\n",
      "Amount Financed\n",
      "2.918.936,80 USD\n",
      "Interest USD 30.860,92 value date 30 June 2025 as per details below\n",
      "To the debit of your account with us, no. IBAN BE68733012009034\n",
      "Details of settlement:\n",
      "Interest on 87 days at 4,374893 %\n",
      "30.860,92 USD\n",
      "Charges USD 3.880,70 value date 30 June 2025 as per details below\n",
      "To the debit of your account with us, no. IBAN BE68733012009034\n",
      "KBC Bank\n",
      "Head Office\n",
      "Trade & Commercial Finance\n",
      "Documentary Credits Export - DKE\n",
      "Sender: DKE - Delacenseriestraat 1, B-2018 Antwerpen\n",
      "Your File Manager\n",
      "JIM CORTENS\n",
      "Telephone +32 3 202 98 37\n",
      "ExportLC.Antwerp@kbc.be\n",
      "http://www.kbc.be\n",
      "KREDBEBB022\n",
      "KBC Bank NV (member of the KBC group) - Havenlaan 2 - B-1080 Brussel - Belgium - BIC KREDBEBB\n",
      "IBAN BE45 7308 7201 0289 - RLP Brussels - VAT BE 0462.920.226 - CBFA 026256 A\n",
      "1/2\n"
     ]
    }
   ],
   "source": [
    "#PyMuPDFLoader\n",
    "\n",
    "try:\n",
    "    pymupdf_loader = PyMuPDFLoader(r\"data\\pdf_file\\KBC_2_Invoice_1.pdf\")\n",
    "    pymupdf_docs = pymupdf_loader.load()\n",
    "    print(pymupdf_docs[0].page_content)\n",
    "\n",
    "\n",
    "except Exception as e:\n",
    "    print(f\"Exception {e}\")"
   ]
  },
  {
   "cell_type": "code",
   "execution_count": 6,
   "id": "281fb7ca",
   "metadata": {},
   "outputs": [],
   "source": [
    "#problems when extracting pdf \n",
    "\n",
    "raw_text = \"\"\"\n",
    "Cricket is one of the most popular sports in the world, loved by millions of fans.\n",
    "It is a game played between two teams of eleven players each.\n",
    "\n",
    "The sport requires a mix of strategy, skill, and endurance.\n",
    "It is especially popular in countries like India, Australia, and England.\n",
    "Cricket has formats like Test matches, ODIs, and T20s, each with its own excitement.\n",
    "\n",
    "\n",
    "Page 1\n",
    "\"\"\""
   ]
  },
  {
   "cell_type": "code",
   "execution_count": 7,
   "id": "7391ee37",
   "metadata": {},
   "outputs": [],
   "source": [
    "#cleaning text \n",
    "\n",
    "def clean_text(text):\n",
    "    text = text.split()\n",
    "    text = \" \".join(text)\n",
    "    return text\n"
   ]
  },
  {
   "cell_type": "code",
   "execution_count": 8,
   "id": "072a652a",
   "metadata": {},
   "outputs": [
    {
     "name": "stdout",
     "output_type": "stream",
     "text": [
      "raw pdf text \n",
      "Cricket is one of the most popular sports in the world, loved by millions of fans.\n",
      "It is a game played between two teams of eleven players each.\n",
      "\n",
      "The sport requires a mix of strategy, skill, and endurance.\n",
      "It is especially popular in countries like India, Australia, and England.\n",
      "Cricket has formats like Test matches, ODIs, and T20s, each with its own excitement.\n",
      "\n",
      "\n",
      "Page 1\n",
      " \n",
      "clean pdf text Cricket is one of the most popular sports in the world, loved by millions of fans. It is a game played between two teams of eleven players each. The sport requires a mix of strategy, skill, and endurance. It is especially popular in countries like India, Australia, and England. Cricket has formats like Test matches, ODIs, and T20s, each with its own excitement. Page 1\n"
     ]
    }
   ],
   "source": [
    "\n",
    "print(f\"raw pdf text {raw_text} \")\n",
    "print(f\"clean pdf text {clean_text(raw_text)}\")\n"
   ]
  },
  {
   "cell_type": "code",
   "execution_count": 32,
   "id": "64a0ff44",
   "metadata": {},
   "outputs": [],
   "source": [
    "from langchain.text_splitter import RecursiveCharacterTextSplitter\n",
    "\n",
    "\n",
    "class SmartPdfProcessor:\n",
    "    \"\"\"Advanced PDF processor\"\"\"\n",
    "    \n",
    "    def __init__(self,chunk_size=1000,chunk_overlap=100):\n",
    "        self.chunk_size = chunk_size\n",
    "        self.chunk_overlap = chunk_overlap\n",
    "        self.text_splitter = RecursiveCharacterTextSplitter(\n",
    "            chunk_size=self.chunk_size,\n",
    "            chunk_overlap=self.chunk_overlap,\n",
    "            length_function=len,\n",
    "            separators=[\" \"],\n",
    "        )\n",
    "    \n",
    "    \n",
    "    def process_pdf(self , pdf_path: str) -> List[Document]:\n",
    "        \"\"\"Process PDF with Smart Chunking and meta data enhancement\"\"\"\n",
    "        \n",
    "        #load the pdf\n",
    "        loader = PyPDFLoader(pdf_path)\n",
    "        pages = loader.load()\n",
    "        \n",
    "        #clean each page \n",
    "        processed_chunks = []\n",
    "        for page_num , page in enumerate(pages):\n",
    "            cleaned_text = self._clean_text(page.page_content)\n",
    "            \n",
    "            if(len(cleaned_text.strip()))  <  50:\n",
    "                continue\n",
    "            \n",
    "            chunks = self.text_splitter.create_documents(\n",
    "                texts = [cleaned_text],\n",
    "                metadatas=[{\n",
    "                    **page.metadata ,\n",
    "                    \"page\": page_num+1,\n",
    "                    \"total_pages\" : len(pages),\n",
    "                    \"chunk_method\" : \"smart_pdf_processor\",\n",
    "                    \"char-count\":len(cleaned_text),\n",
    "                }]\n",
    "            )\n",
    "            \n",
    "            processed_chunks.extend(chunks)\n",
    "        return processed_chunks\n",
    "    \n",
    "    \n",
    "    def _clean_text(self,text):\n",
    "        text = text.split()\n",
    "        text = \" \".join(text)\n",
    "        return text.strip()\n",
    "\n"
   ]
  },
  {
   "cell_type": "code",
   "execution_count": 33,
   "id": "5b412016",
   "metadata": {},
   "outputs": [],
   "source": [
    "preprocessor = SmartPdfProcessor()"
   ]
  },
  {
   "cell_type": "code",
   "execution_count": 37,
   "id": "7ce212b9",
   "metadata": {},
   "outputs": [
    {
     "name": "stdout",
     "output_type": "stream",
     "text": [
      "[Document(metadata={'producer': 'TradeDesign PDF 2.0', 'creator': 'PyPDF', 'creationdate': '', 'source': 'data\\\\pdf_file\\\\KBC_2_Invoice_1.pdf', 'total_pages': 2, 'page': 1, 'page_label': '1', 'chunk_method': 'smart_pdf_processor', 'char-count': 1450}, page_content=\"ARCELORMITTAL INTERN. LUXEMBOURG SA BOULEVARD D'AVRANCHES 24-26 L-1160 LUXEMBOURG Luxembourg Antwerpen, 30 June 2025 Advice of Financing Your Reference: B073384001 Our Reference: ANTWLE0040018 & ANTWBE0040018/01 Counterparty: FIERCTC SIBEL SRL Receivable amount: USD 2.918.936,80 Financed amount: USD 2.918.936,80 Start Date: 30 June 2025 Due Date: 24 September 2025 Dear Sir/Madam, We have checked above documentary remittance. The documents are taken up and forfaited without recourse as follows: Financed amount USD 2.918.936,80 value date 30 June 2025 as per details below To the credit of your account with us, no. IBAN BE68733012009034 Details of settlement: Amount Financed 2.918.936,80 USD Interest USD 30.860,92 value date 30 June 2025 as per details below To the debit of your account with us, no. IBAN BE68733012009034 Details of settlement: Interest on 87 days at 4,374893 % 30.860,92 USD Charges USD 3.880,70 value date 30 June 2025 as per details below To the debit of your account with\"), Document(metadata={'producer': 'TradeDesign PDF 2.0', 'creator': 'PyPDF', 'creationdate': '', 'source': 'data\\\\pdf_file\\\\KBC_2_Invoice_1.pdf', 'total_pages': 2, 'page': 1, 'page_label': '1', 'chunk_method': 'smart_pdf_processor', 'char-count': 1450}, page_content='Charges USD 3.880,70 value date 30 June 2025 as per details below To the debit of your account with us, no. IBAN BE68733012009034 KBC Bank Head Office Trade & Commercial Finance Documentary Credits Export - DKE Sender: DKE - Delacenseriestraat 1, B-2018 Antwerpen Your File Manager JIM CORTENS Telephone +32 3 202 98 37 ExportLC.Antwerp@kbc.be http://www.kbc.be KREDBEBB022 KBC Bank NV (member of the KBC group) - Havenlaan 2 - B-1080 Brussel - Belgium - BIC KREDBEBB IBAN BE45 7308 7201 0289 - RLP Brussels - VAT BE 0462.920.226 - CBFA 026256 A 1/2'), Document(metadata={'producer': 'TradeDesign PDF 2.0', 'creator': 'PyPDF', 'creationdate': '', 'source': 'data\\\\pdf_file\\\\KBC_2_Invoice_1.pdf', 'total_pages': 2, 'page': 2, 'page_label': '2', 'chunk_method': 'smart_pdf_processor', 'char-count': 700}, page_content='Details of settlement: Foreign Commission 200,00 USD Flat fee + 148,63 USD Commitment fee + 2.440,56 USD Handling Fee + 142,68 USD Amendment charge + 35,67 USD Confirmation Commission + 913,16 USD Total 3.880,70 USD This message is sent for your information. All rights and obligations in the context of the abovementioned transaction and/or financing are governed by the applicable contractual arrangements. Yours sincerely, JIM CORTENS Controller Documentary Credits KARLA BACIC Controller Documentary Credits Enclosure(s) KBC Bank NV (member of the KBC group) - Havenlaan 2 - B-1080 Brussel - Belgium - BIC KREDBEBB IBAN BE45 7308 7201 0289 - RLP Brussels - VAT BE 0462.920.226 - CBFA 026256 A 2/2')]\n",
      "length of smart chunks: 3\n",
      "producer TradeDesign PDF 2.0\n",
      "creator PyPDF\n",
      "creationdate \n",
      "source data\\pdf_file\\KBC_2_Invoice_1.pdf\n",
      "total_pages 2\n",
      "page 1\n",
      "page_label 1\n",
      "chunk_method smart_pdf_processor\n",
      "char-count 1450\n"
     ]
    }
   ],
   "source": [
    "smart_chunks = preprocessor.process_pdf(r\"data\\pdf_file\\KBC_2_Invoice_1.pdf\")\n",
    "print(smart_chunks)\n",
    "print(f\"length of smart chunks: {len(smart_chunks)}\")\n",
    "\n",
    "if smart_chunks:\n",
    "    for key , value in smart_chunks[0].metadata.items():\n",
    "        print(key,value)\n"
   ]
  },
  {
   "cell_type": "code",
   "execution_count": null,
   "id": "ebd869f2",
   "metadata": {},
   "outputs": [],
   "source": []
  }
 ],
 "metadata": {
  "kernelspec": {
   "display_name": "RAGUdemy (3.13.2)",
   "language": "python",
   "name": "python3"
  },
  "language_info": {
   "codemirror_mode": {
    "name": "ipython",
    "version": 3
   },
   "file_extension": ".py",
   "mimetype": "text/x-python",
   "name": "python",
   "nbconvert_exporter": "python",
   "pygments_lexer": "ipython3",
   "version": "3.13.2"
  }
 },
 "nbformat": 4,
 "nbformat_minor": 5
}
