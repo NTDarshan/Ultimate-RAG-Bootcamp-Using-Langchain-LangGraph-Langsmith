{
 "cells": [
  {
   "cell_type": "code",
   "execution_count": 4,
   "id": "263aa52a",
   "metadata": {},
   "outputs": [],
   "source": [
    "import json\n",
    "import os\n",
    "os.makedirs(\"data/json_files\", exist_ok=True)"
   ]
  },
  {
   "cell_type": "code",
   "execution_count": 3,
   "id": "f373f557",
   "metadata": {},
   "outputs": [],
   "source": [
    "company_data = {\n",
    "    \"company_name\": \"TechNova Solutions\",\n",
    "    \"employees\": [\n",
    "        {\n",
    "            \"employee_id\": 101,\n",
    "            \"name\": \"Alice Johnson\",\n",
    "            \"role\": \"Software Engineer\",\n",
    "            \"skills\": [\"Python\", \"Django\", \"SQL\"],\n",
    "            \"projects\": [\n",
    "                {\"project_id\": \"P001\", \"name\": \"Inventory System\", \"status\": \"Completed\"},\n",
    "                {\"project_id\": \"P002\", \"name\": \"E-commerce Platform\", \"status\": \"Ongoing\"}\n",
    "            ]\n",
    "        },\n",
    "        {\n",
    "            \"employee_id\": 102,\n",
    "            \"name\": \"Bob Smith\",\n",
    "            \"role\": \"Frontend Developer\",\n",
    "            \"skills\": [\"React\", \"JavaScript\", \"CSS\"],\n",
    "            \"projects\": [\n",
    "                {\"project_id\": \"P003\", \"name\": \"Customer Portal\", \"status\": \"Ongoing\"}\n",
    "            ]\n",
    "        },\n",
    "        {\n",
    "            \"employee_id\": 103,\n",
    "            \"name\": \"Charlie Davis\",\n",
    "            \"role\": \"Data Scientist\",\n",
    "            \"skills\": [\"Python\", \"Pandas\", \"Machine Learning\"],\n",
    "            \"projects\": [\n",
    "                {\"project_id\": \"P004\", \"name\": \"Sales Forecasting\", \"status\": \"Completed\"},\n",
    "                {\"project_id\": \"P005\", \"name\": \"AI Chatbot\", \"status\": \"Ongoing\"}\n",
    "            ]\n",
    "        },\n",
    "        {\n",
    "            \"employee_id\": 104,\n",
    "            \"name\": \"Diana Lee\",\n",
    "            \"role\": \"UI/UX Designer\",\n",
    "            \"skills\": [\"Figma\", \"Adobe XD\", \"Illustrator\"],\n",
    "            \"projects\": [\n",
    "                {\"project_id\": \"P006\", \"name\": \"Mobile App Design\", \"status\": \"Completed\"}\n",
    "            ]\n",
    "        },\n",
    "        {\n",
    "            \"employee_id\": 105,\n",
    "            \"name\": \"Ethan Brown\",\n",
    "            \"role\": \"DevOps Engineer\",\n",
    "            \"skills\": [\"AWS\", \"Docker\", \"Kubernetes\"],\n",
    "            \"projects\": [\n",
    "                {\"project_id\": \"P007\", \"name\": \"Cloud Migration\", \"status\": \"Ongoing\"}\n",
    "            ]\n",
    "        }\n",
    "    ],\n",
    "    \"departments\": {\n",
    "        \"Engineering\": {\n",
    "            \"head\": \"Michael Scott\",\n",
    "            \"budget\": 500000,\n",
    "            \"team_size\": 25\n",
    "        },\n",
    "        \"Human Resources\": {\n",
    "            \"head\": \"Rachel Green\",\n",
    "            \"budget\": 150000,\n",
    "            \"team_size\": 8\n",
    "        }\n",
    "    }\n",
    "}"
   ]
  },
  {
   "cell_type": "code",
   "execution_count": 5,
   "id": "f6a3510d",
   "metadata": {},
   "outputs": [],
   "source": [
    "with open(\"data/json_files/company_data.json\", \"w\", encoding=\"utf-8\") as f:\n",
    "    json.dump(company_data, f, indent=4)"
   ]
  },
  {
   "cell_type": "code",
   "execution_count": 8,
   "id": "f53cbfb6",
   "metadata": {},
   "outputs": [],
   "source": [
    "event_data = [\n",
    "    {\"timestamp\": \"2025-08-17T09:00:00Z\", \"event\": \"user_login\", \"user_id\": 101},\n",
    "    {\"timestamp\": \"2025-08-17T09:05:00Z\", \"event\": \"file_upload\", \"user_id\": 102},\n",
    "    {\"timestamp\": \"2025-08-17T09:10:00Z\", \"event\": \"user_logout\", \"user_id\": 101},\n",
    "    {\"timestamp\": \"2025-08-17T09:20:00Z\", \"event\": \"password_change\", \"user_id\": 103},\n",
    "    {\"timestamp\": \"2025-08-17T09:30:00Z\", \"event\": \"user_login\", \"user_id\": 104},\n",
    "]\n",
    "\n",
    "with open(\"data/json_files/event_data.jsonl\", \"w\", encoding=\"utf-8\") as f:\n",
    "    for event in event_data:\n",
    "        f.write(json.dumps(event) + \"\\n\")"
   ]
  },
  {
   "cell_type": "markdown",
   "id": "27f3c9c0",
   "metadata": {},
   "source": [
    "#json processing\n"
   ]
  },
  {
   "cell_type": "code",
   "execution_count": 16,
   "id": "ed735352",
   "metadata": {},
   "outputs": [
    {
     "name": "stdout",
     "output_type": "stream",
     "text": [
      "{\"employee_id\": 102, \"name\": \"Bob Smith\", \"role\": \"Frontend Developer\", \"skills\": [\"React\", \"JavaScript\", \"CSS\"], \"projects\": [{\"project_id\": \"P003\", \"name\": \"Customer Portal\", \"status\": \"Ongoing\"}]}\n"
     ]
    }
   ],
   "source": [
    "from langchain_community.document_loaders import JSONLoader\n",
    "import json\n",
    "\n",
    "json_loader = JSONLoader( \n",
    "                         file_path=\"data/json_files/company_data.json\",\n",
    "                         jq_schema=\".employees[]\",\n",
    "                         text_content=False\n",
    "                         )\n",
    "\n",
    "\n",
    "json_doc = json_loader.load()\n",
    "print(json_doc[1].page_content)\n"
   ]
  },
  {
   "cell_type": "code",
   "execution_count": 18,
   "id": "5fd12cd2",
   "metadata": {},
   "outputs": [],
   "source": [
    "import json\n",
    "from typing import List\n",
    "from langchain_core.documents import Document\n",
    "\n",
    "\n",
    "def parse_json_intelligently(file_path: str) -> List[Document]:\n",
    "    with open(file_path, \"r\", encoding=\"utf-8\") as f:\n",
    "        data = json.load(f)\n",
    "\n",
    "    documents = []\n",
    "    for employee in data.get(\"employees\", []):\n",
    "        content = f\"\"\"\n",
    "        Employee Profile:\n",
    "        Name: {employee.get(\"name\")}\n",
    "        Role: {employee.get(\"role\")}\n",
    "        Skills: {\", \".join(employee.get(\"skills\", []))}\n",
    "        \n",
    "        Projects:\n",
    "        \"\"\"\n",
    "\n",
    "        for project in employee.get(\"projects\", []):\n",
    "            content += f\"\"\"\n",
    "            - Project ID: {project.get(\"project_id\")}\n",
    "              Name: {project.get(\"name\")}\n",
    "              Status: {project.get(\"status\")}\n",
    "            \"\"\"\n",
    "\n",
    "        doc = Document(\n",
    "            page_content=content.strip(),\n",
    "            metadata={\n",
    "                \"employee_id\": employee.get(\"employee_id\"),\n",
    "                \"name\": employee.get(\"name\"),\n",
    "                \"role\": employee.get(\"role\"),\n",
    "                \"skills\": employee.get(\"skills\", []),\n",
    "                \"num_projects\": len(employee.get(\"projects\", [])),\n",
    "                \"source\": file_path\n",
    "            }\n",
    "        )\n",
    "\n",
    "        documents.append(doc)\n",
    "\n",
    "    return documents\n"
   ]
  },
  {
   "cell_type": "code",
   "execution_count": 21,
   "id": "e5760bd7",
   "metadata": {},
   "outputs": [
    {
     "name": "stdout",
     "output_type": "stream",
     "text": [
      "page_content='Employee Profile:\n",
      "        Name: Alice Johnson\n",
      "        Role: Software Engineer\n",
      "        Skills: Python, Django, SQL\n",
      "\n",
      "        Projects:\n",
      "        \n",
      "            - Project ID: P001\n",
      "              Name: Inventory System\n",
      "              Status: Completed\n",
      "            \n",
      "            - Project ID: P002\n",
      "              Name: E-commerce Platform\n",
      "              Status: Ongoing' metadata={'employee_id': 101, 'name': 'Alice Johnson', 'role': 'Software Engineer', 'skills': ['Python', 'Django', 'SQL'], 'num_projects': 2, 'source': 'data/json_files/company_data.json'}\n"
     ]
    }
   ],
   "source": [
    "print(parse_json_intelligently(\"data/json_files/company_data.json\")[0])"
   ]
  },
  {
   "cell_type": "code",
   "execution_count": null,
   "id": "58f37b49",
   "metadata": {},
   "outputs": [],
   "source": []
  }
 ],
 "metadata": {
  "kernelspec": {
   "display_name": "RAGUdemy (3.13.2)",
   "language": "python",
   "name": "python3"
  },
  "language_info": {
   "codemirror_mode": {
    "name": "ipython",
    "version": 3
   },
   "file_extension": ".py",
   "mimetype": "text/x-python",
   "name": "python",
   "nbconvert_exporter": "python",
   "pygments_lexer": "ipython3",
   "version": "3.13.2"
  }
 },
 "nbformat": 4,
 "nbformat_minor": 5
}
