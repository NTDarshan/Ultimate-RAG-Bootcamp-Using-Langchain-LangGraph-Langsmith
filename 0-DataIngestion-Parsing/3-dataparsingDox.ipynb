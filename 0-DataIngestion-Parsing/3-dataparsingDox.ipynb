{
 "cells": [
  {
   "cell_type": "markdown",
   "id": "9fd6b73c",
   "metadata": {},
   "source": [
    "#Word document processing\n"
   ]
  },
  {
   "cell_type": "code",
   "execution_count": 3,
   "id": "4dafd7b2",
   "metadata": {},
   "outputs": [],
   "source": [
    "from docx import Document as DocxDocument\n",
    "import os"
   ]
  },
  {
   "cell_type": "code",
   "execution_count": 4,
   "id": "9f9c85c9",
   "metadata": {},
   "outputs": [],
   "source": [
    "from langchain_community.document_loaders import Docx2txtLoader, UnstructuredWordDocumentLoader"
   ]
  },
  {
   "cell_type": "code",
   "execution_count": 6,
   "id": "6c6aa9e9",
   "metadata": {},
   "outputs": [
    {
     "name": "stdout",
     "output_type": "stream",
     "text": [
      "Document content Project Proposal: RAG Application Development\n",
      "\n",
      "Project Overview\n",
      "\n",
      "A Retrieval-Augmented Generation (RAG) application enhances the responses of Large Language Models (LLMs) by explicitly retrieving relevant information from a domain-specific knowledge base, combining retrieval with generation for accurate, context-rich answers.\n",
      "\n",
      "Project Phases & Timeline\n",
      "\n",
      "Phase\n",
      "\n",
      "Description\n",
      "\n",
      "Duration\n",
      "\n",
      "Requirements Analysis\n",
      "\n",
      "Define use cases, scope, requirements\n",
      "\n",
      "2 weeks\n",
      "\n",
      "Data Preparation\n",
      "\n",
      "Gather, clean, and chunk documents for retrieval\n",
      "\n",
      "4 weeks\n",
      "\n",
      "Model Selection\n",
      "\n",
      "Choose embedding, LLM, and vector database solutions\n",
      "\n",
      "2 weeks\n",
      "\n",
      "System Design\n",
      "\n",
      "Architect pipeline, integration plans\n",
      "\n",
      "2 weeks\n",
      "\n",
      "Development\n",
      "\n",
      "Build ingestion, retrieval, LLM inference modules\n",
      "\n",
      "8 weeks\n",
      "\n",
      "Testing/QA\n",
      "\n",
      "Evaluate accuracy, security, scalability\n",
      "\n",
      "4 weeks\n",
      "\n",
      "Deployment\n",
      "\n",
      "Launch to production, monitor, optimize\n",
      "\n",
      "2 weeks\n",
      "\n",
      "Documentation/Training\n",
      "\n",
      "Project docs, user/admin training\n",
      "\n",
      "2 weeks\n",
      "\n",
      "\n",
      "\n",
      "Total Duration: 26 weeks (~6 months).[1]\n",
      "\n",
      "Cost Estimate\n",
      "Document metadata {'source': 'data\\\\docx_files\\\\proposal.docx'}\n"
     ]
    }
   ],
   "source": [
    "#Method 1: Using Docx2txtLoader\n",
    "\n",
    "try:\n",
    "    loader = Docx2txtLoader(r\"data\\docx_files\\proposal.docx\")\n",
    "    docs = loader.load()\n",
    "    print(f\"Document content {docs[0].page_content[:1000]}\")\n",
    "    print(f\"Document metadata {docs[0].metadata}\")\n",
    "except Exception as e:\n",
    "    print(f\"Error loading document: {e}\")\n",
    "\n"
   ]
  },
  {
   "cell_type": "code",
   "execution_count": 9,
   "id": "a4bf6f98",
   "metadata": {},
   "outputs": [
    {
     "name": "stdout",
     "output_type": "stream",
     "text": [
      "Unstrutured documents loaded 15\n",
      "Document 0 content Project Proposal: RAG Application Development\n",
      "Document 0 metadata {'source': 'data\\\\docx_files\\\\proposal.docx', 'category_depth': 0, 'emphasized_text_contents': ['Project Proposal: RAG Application Development'], 'emphasized_text_tags': ['b'], 'file_directory': 'data\\\\docx_files', 'filename': 'proposal.docx', 'last_modified': '2025-08-17T15:42:03', 'page_number': 1, 'languages': ['eng'], 'filetype': 'application/vnd.openxmlformats-officedocument.wordprocessingml.document', 'category': 'UncategorizedText', 'element_id': '8b3243c172f049bdf39845f17bdfc8ed'}\n",
      "\n",
      "\n",
      "\n",
      "Document 1 content Project Overview\n",
      "Document 1 metadata {'source': 'data\\\\docx_files\\\\proposal.docx', 'category_depth': 0, 'emphasized_text_contents': ['Project Overview'], 'emphasized_text_tags': ['b'], 'file_directory': 'data\\\\docx_files', 'filename': 'proposal.docx', 'last_modified': '2025-08-17T15:42:03', 'page_number': 1, 'languages': ['eng'], 'filetype': 'application/vnd.openxmlformats-officedocument.wordprocessingml.document', 'category': 'UncategorizedText', 'element_id': '985bb399bf0f1a6c27b4c9792935e153'}\n",
      "\n",
      "\n",
      "\n",
      "Document 2 content A Retrieval-Augmented Generation (RAG) application enhances the responses of Large Language Models (LLMs) by explicitly retrieving relevant information from a domain-specific knowledge base, combining retrieval with generation for accurate, context-rich answers.\n",
      "Document 2 metadata {'source': 'data\\\\docx_files\\\\proposal.docx', 'category_depth': 0, 'file_directory': 'data\\\\docx_files', 'filename': 'proposal.docx', 'last_modified': '2025-08-17T15:42:03', 'page_number': 1, 'languages': ['eng'], 'filetype': 'application/vnd.openxmlformats-officedocument.wordprocessingml.document', 'category': 'NarrativeText', 'element_id': 'e686542e91b6ce38ff89659afdfb65f0'}\n",
      "\n",
      "\n",
      "\n",
      "Document 3 content Project Phases & Timeline\n",
      "Document 3 metadata {'source': 'data\\\\docx_files\\\\proposal.docx', 'category_depth': 0, 'emphasized_text_contents': ['Project Phases & Timeline'], 'emphasized_text_tags': ['b'], 'file_directory': 'data\\\\docx_files', 'filename': 'proposal.docx', 'last_modified': '2025-08-17T15:42:03', 'page_number': 1, 'languages': ['eng'], 'filetype': 'application/vnd.openxmlformats-officedocument.wordprocessingml.document', 'category': 'UncategorizedText', 'element_id': '3bc3881549c678788cf197f62fbb6065'}\n",
      "\n",
      "\n",
      "\n",
      "Document 4 content Phase Description Duration Requirements Analysis Define use cases, scope, requirements 2 weeks Data Preparation Gather, clean, and chunk documents for retrieval 4 weeks Model Selection Choose embedding, LLM, and vector database solutions 2 weeks System Design Architect pipeline, integration plans 2 weeks Development Build ingestion, retrieval, LLM inference modules 8 weeks Testing/QA Evaluate accuracy, security, scalability 4 weeks Deployment Launch to production, monitor, optimize 2 weeks Documentation/Training Project docs, user/admin training 2 weeks\n",
      "Document 4 metadata {'source': 'data\\\\docx_files\\\\proposal.docx', 'file_directory': 'data\\\\docx_files', 'filename': 'proposal.docx', 'last_modified': '2025-08-17T15:42:03', 'page_number': 1, 'text_as_html': '<table><tr><td>Phase</td><td>Description</td><td>Duration</td></tr><tr><td>Requirements Analysis</td><td>Define use cases, scope, requirements</td><td>2 weeks</td></tr><tr><td>Data Preparation</td><td>Gather, clean, and chunk documents for retrieval</td><td>4 weeks</td></tr><tr><td>Model Selection</td><td>Choose embedding, LLM, and vector database solutions</td><td>2 weeks</td></tr><tr><td>System Design</td><td>Architect pipeline, integration plans</td><td>2 weeks</td></tr><tr><td>Development</td><td>Build ingestion, retrieval, LLM inference modules</td><td>8 weeks</td></tr><tr><td>Testing/QA</td><td>Evaluate accuracy, security, scalability</td><td>4 weeks</td></tr><tr><td>Deployment</td><td>Launch to production, monitor, optimize</td><td>2 weeks</td></tr><tr><td>Documentation/Training</td><td>Project docs, user/admin training</td><td>2 weeks</td></tr></table>', 'languages': ['eng'], 'filetype': 'application/vnd.openxmlformats-officedocument.wordprocessingml.document', 'category': 'Table', 'element_id': '8c59c7c03d0b8ac36a5cc5d16bfa84db'}\n",
      "\n",
      "\n",
      "\n",
      "Document 5 content Total Duration: 26 weeks (~6 months).[1]\n",
      "Document 5 metadata {'source': 'data\\\\docx_files\\\\proposal.docx', 'category_depth': 0, 'emphasized_text_contents': ['Total Duration:'], 'emphasized_text_tags': ['b'], 'file_directory': 'data\\\\docx_files', 'filename': 'proposal.docx', 'last_modified': '2025-08-17T15:42:03', 'page_number': 1, 'languages': ['eng'], 'filetype': 'application/vnd.openxmlformats-officedocument.wordprocessingml.document', 'category': 'UncategorizedText', 'element_id': '99d5b6766ba5af148b27bef509ea2b08'}\n",
      "\n",
      "\n",
      "\n",
      "Document 6 content Cost Estimates\n",
      "Document 6 metadata {'source': 'data\\\\docx_files\\\\proposal.docx', 'category_depth': 0, 'emphasized_text_contents': ['Cost Estimates'], 'emphasized_text_tags': ['b'], 'file_directory': 'data\\\\docx_files', 'filename': 'proposal.docx', 'last_modified': '2025-08-17T15:42:03', 'page_number': 1, 'languages': ['eng'], 'filetype': 'application/vnd.openxmlformats-officedocument.wordprocessingml.document', 'category': 'UncategorizedText', 'element_id': '7649b5a568efb63537f87f0e50235b8f'}\n",
      "\n",
      "\n",
      "\n",
      "Document 7 content Basic RAG App: $40,000–$200,000 (simple pipeline, small team, basic interface)\n",
      "Document 7 metadata {'source': 'data\\\\docx_files\\\\proposal.docx', 'category_depth': 0, 'emphasized_text_contents': ['Basic RAG App:'], 'emphasized_text_tags': ['b'], 'file_directory': 'data\\\\docx_files', 'filename': 'proposal.docx', 'last_modified': '2025-08-17T15:42:03', 'page_number': 1, 'languages': ['eng'], 'filetype': 'application/vnd.openxmlformats-officedocument.wordprocessingml.document', 'category': 'ListItem', 'element_id': '23935bf3cd6e7771a39c2260069e4ea3'}\n",
      "\n",
      "\n",
      "\n",
      "Document 8 content Advanced RAG Solution: $600,000–$1,000,000+ (enterprise-grade, sophisticated infrastructure, complex data, extensive team, custom features)\n",
      "Document 8 metadata {'source': 'data\\\\docx_files\\\\proposal.docx', 'category_depth': 0, 'emphasized_text_contents': ['Advanced RAG Solution:'], 'emphasized_text_tags': ['b'], 'file_directory': 'data\\\\docx_files', 'filename': 'proposal.docx', 'last_modified': '2025-08-17T15:42:03', 'page_number': 1, 'languages': ['eng'], 'filetype': 'application/vnd.openxmlformats-officedocument.wordprocessingml.document', 'category': 'ListItem', 'element_id': 'fc9860b1be0f832b151ddfb3fe445988'}\n",
      "\n",
      "\n",
      "\n",
      "Document 9 content Operational Costs:\n",
      "Document 9 metadata {'source': 'data\\\\docx_files\\\\proposal.docx', 'category_depth': 0, 'emphasized_text_contents': ['Operational Costs:'], 'emphasized_text_tags': ['b'], 'file_directory': 'data\\\\docx_files', 'filename': 'proposal.docx', 'last_modified': '2025-08-17T15:42:03', 'page_number': 1, 'languages': ['eng'], 'filetype': 'application/vnd.openxmlformats-officedocument.wordprocessingml.document', 'category': 'UncategorizedText', 'element_id': '8113b9b55b410704ac9b6bd2abdc9712'}\n",
      "\n",
      "\n",
      "\n",
      "Document 10 content Vector Database: ~$25–$70/month\n",
      "Document 10 metadata {'source': 'data\\\\docx_files\\\\proposal.docx', 'category_depth': 0, 'file_directory': 'data\\\\docx_files', 'filename': 'proposal.docx', 'last_modified': '2025-08-17T15:42:03', 'page_number': 1, 'languages': ['eng'], 'filetype': 'application/vnd.openxmlformats-officedocument.wordprocessingml.document', 'category': 'ListItem', 'element_id': '1ac8b89813ac6300553156e927412dc7'}\n",
      "\n",
      "\n",
      "\n",
      "Document 11 content LLM API: $0.0003–$0.0046/query[1]\n",
      "Document 11 metadata {'source': 'data\\\\docx_files\\\\proposal.docx', 'category_depth': 0, 'file_directory': 'data\\\\docx_files', 'filename': 'proposal.docx', 'last_modified': '2025-08-17T15:42:03', 'page_number': 1, 'languages': ['eng'], 'filetype': 'application/vnd.openxmlformats-officedocument.wordprocessingml.document', 'category': 'ListItem', 'element_id': '17d148d6eca3d3368dee677412beab59'}\n",
      "\n",
      "\n",
      "\n",
      "Document 12 content Team Composition\n",
      "Document 12 metadata {'source': 'data\\\\docx_files\\\\proposal.docx', 'category_depth': 0, 'emphasized_text_contents': ['Team Composition'], 'emphasized_text_tags': ['b'], 'file_directory': 'data\\\\docx_files', 'filename': 'proposal.docx', 'last_modified': '2025-08-17T15:42:03', 'page_number': 1, 'languages': ['eng'], 'filetype': 'application/vnd.openxmlformats-officedocument.wordprocessingml.document', 'category': 'UncategorizedText', 'element_id': '69051d3a8dc781ed95efb09fb50cb5e6'}\n",
      "\n",
      "\n",
      "\n",
      "Document 13 content Role Number of Members Responsibilities Project Manager 1 Planning, coordination, reporting AI/ML Engineers 2–4 Model development, evaluation Data Engineers 1–2 ETL, data preparation, storage Backend Developers 1–2 Integrating components, API dev DevOps Engineer 1 Deployment, monitoring, scaling QA/Testers 1 Testing accuracy, edge cases, security\n",
      "Document 13 metadata {'source': 'data\\\\docx_files\\\\proposal.docx', 'file_directory': 'data\\\\docx_files', 'filename': 'proposal.docx', 'last_modified': '2025-08-17T15:42:03', 'page_number': 1, 'text_as_html': '<table><tr><td>Role</td><td>Number of Members</td><td>Responsibilities</td></tr><tr><td>Project Manager</td><td>1</td><td>Planning, coordination, reporting</td></tr><tr><td>AI/ML Engineers</td><td>2–4</td><td>Model development, evaluation</td></tr><tr><td>Data Engineers</td><td>1–2</td><td>ETL, data preparation, storage</td></tr><tr><td>Backend Developers</td><td>1–2</td><td>Integrating components, API dev</td></tr><tr><td>DevOps Engineer</td><td>1</td><td>Deployment, monitoring, scaling</td></tr><tr><td>QA/Testers</td><td>1</td><td>Testing accuracy, edge cases, security</td></tr></table>', 'languages': ['eng'], 'filetype': 'application/vnd.openxmlformats-officedocument.wordprocessingml.document', 'category': 'Table', 'element_id': '480ee40a783b61bce52a45374cd79dc2'}\n",
      "\n",
      "\n",
      "\n",
      "Document 14 content Typical Team Size: 6–10 members for production-grade deployment.[1]\n",
      "Document 14 metadata {'source': 'data\\\\docx_files\\\\proposal.docx', 'category_depth': 0, 'emphasized_text_contents': ['Typical Team Size:'], 'emphasized_text_tags': ['b'], 'file_directory': 'data\\\\docx_files', 'filename': 'proposal.docx', 'last_modified': '2025-08-17T15:42:03', 'page_number': 1, 'languages': ['eng'], 'filetype': 'application/vnd.openxmlformats-officedocument.wordprocessingml.document', 'category': 'UncategorizedText', 'element_id': 'be61c3120b5647051a0258c22311aec8'}\n",
      "\n",
      "\n",
      "\n"
     ]
    }
   ],
   "source": [
    "#Method 2: Using UnstructuredWordDocumentLoader\n",
    "\n",
    "try:\n",
    "    loader = UnstructuredWordDocumentLoader(r\"data\\docx_files\\proposal.docx\", mode=\"elements\", strategy=\"fast\")  #here mode is elements and strategy is fast that means it will load the document in fast mode and it will return the document in elements format\n",
    "\n",
    "\n",
    "    docs = loader.load()\n",
    "    print(f\"Unstrutured documents loaded {len(docs)}\")\n",
    "    \n",
    "    for i , doc in enumerate(docs):\n",
    "        print(f\"Document {i} content {doc.page_content}\")\n",
    "        print(f\"Document {i} metadata {doc.metadata}\")\n",
    "        print(\"\\n\\n\")\n",
    "except Exception as e:\n",
    "    print(f\"Error loading document: {e}\")\n",
    "\n",
    "\n",
    "\n"
   ]
  },
  {
   "cell_type": "code",
   "execution_count": 10,
   "id": "f74e8c38",
   "metadata": {},
   "outputs": [
    {
     "data": {
      "text/plain": [
       "'Project Proposal: RAG Application Development'"
      ]
     },
     "execution_count": 10,
     "metadata": {},
     "output_type": "execute_result"
    }
   ],
   "source": [
    "docs[0].page_content"
   ]
  },
  {
   "cell_type": "code",
   "execution_count": null,
   "id": "22e7abb3",
   "metadata": {},
   "outputs": [],
   "source": []
  }
 ],
 "metadata": {
  "kernelspec": {
   "display_name": "RAGUdemy (3.13.2)",
   "language": "python",
   "name": "python3"
  },
  "language_info": {
   "codemirror_mode": {
    "name": "ipython",
    "version": 3
   },
   "file_extension": ".py",
   "mimetype": "text/x-python",
   "name": "python",
   "nbconvert_exporter": "python",
   "pygments_lexer": "ipython3",
   "version": "3.13.2"
  }
 },
 "nbformat": 4,
 "nbformat_minor": 5
}
